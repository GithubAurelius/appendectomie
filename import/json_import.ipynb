{
 "cells": [
  {
   "cell_type": "code",
   "execution_count": null,
   "id": "709f8b4e",
   "metadata": {},
   "outputs": [],
   "source": [
    "# NEVER USED - EXAMPLE\n",
    "\n",
    "import json\n",
    "import mysql.connector\n",
    "\n",
    "# JSON laden\n",
    "with open(\"forms_10010_202509052028.json\", \"r\", encoding=\"utf-8\") as f:\n",
    "    data = json.load(f)\n",
    "\n",
    "rows = data[\"forms_10010\"]  # Array der Datensätze\n",
    "\n",
    "# DB-Verbindung herstellen\n",
    "conn = mysql.connector.connect(\n",
    "    host=\"localhost\",\n",
    "    user=\"root\",\n",
    "    password=\"\",\n",
    "    database=\"cedur\"\n",
    ")\n",
    "cur = conn.cursor()\n",
    "\n",
    "# Insert\n",
    "for row in rows:\n",
    "    cur.execute(\"\"\"\n",
    "        INSERT INTO test (fcid, fid, muid, fcont, mts, usergroup)\n",
    "        VALUES (%s, %s, %s, %s, %s, %s)\n",
    "    \"\"\", (\n",
    "        row[\"fcid\"],\n",
    "        row[\"fid\"],\n",
    "        row[\"muid\"],\n",
    "        row[\"fcont\"],\n",
    "        row[\"mts\"],\n",
    "        row[\"usergroup\"]\n",
    "    ))\n",
    "    conn.commit()\n",
    "\n",
    "\n",
    "cur.close()\n",
    "conn.close()"
   ]
  }
 ],
 "metadata": {
  "kernelspec": {
   "display_name": "Python 3",
   "language": "python",
   "name": "python3"
  },
  "language_info": {
   "codemirror_mode": {
    "name": "ipython",
    "version": 3
   },
   "file_extension": ".py",
   "mimetype": "text/x-python",
   "name": "python",
   "nbconvert_exporter": "python",
   "pygments_lexer": "ipython3",
   "version": "3.12.5"
  }
 },
 "nbformat": 4,
 "nbformat_minor": 5
}
